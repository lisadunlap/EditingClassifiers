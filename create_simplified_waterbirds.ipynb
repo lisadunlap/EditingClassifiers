{
 "cells": [
  {
   "cell_type": "code",
   "execution_count": 1,
   "metadata": {},
   "outputs": [],
   "source": [
    "import sys, os, warnings\n",
    "from argparse import Namespace\n",
    "warnings.filterwarnings(\"ignore\")\n",
    "\n",
    "import torch as ch\n",
    "from torchvision import transforms\n",
    "import numpy as np\n",
    "from PIL import Image\n",
    "from tqdm import tqdm\n",
    "import torchvision\n",
    "import numpy as np\n",
    "\n",
    "from helpers import classifier_helpers\n",
    "import helpers.data_helpers as dh\n",
    "import helpers.context_helpers as coh\n",
    "import helpers.rewrite_helpers as rh\n",
    "import helpers.vis_helpers as vh\n",
    "\n",
    "import matplotlib.pyplot as plt\n",
    "import random\n",
    "\n",
    "import helpers.new_testing as nt\n",
    "from helpers.new_testing import IMAGENET_CLASSES\n",
    "from helpers.waterbirds import Waterbirds\n",
    "\n",
    "%matplotlib inline"
   ]
  },
  {
   "cell_type": "code",
   "execution_count": 5,
   "metadata": {},
   "outputs": [
    {
     "name": "stdout",
     "output_type": "stream",
     "text": [
      "RETURN ATTENTION  False\n",
      "PLANES TRAIN\n",
      "LEN DATASET: 182\n",
      "# AIRBUS:    70\n",
      "# BOEING:    112\n",
      "# Airbus_grass: 0\n",
      "# Airbus_road: 70\n",
      "# Boeing_grass: 112\n",
      "# Boeing_road: 0\n"
     ]
    }
   ],
   "source": [
    "from omegaconf import OmegaConf\n",
    "\n",
    "from helpers.waterbirds import Waterbirds, WaterbirdsEditing\n",
    "from helpers.planes import Planes\n",
    "\n",
    "# overrides = OmegaConf.from_cli(flags.overrides)\n",
    "cfg       = OmegaConf.load('configs/planes.yaml')\n",
    "base_cfg  = OmegaConf.load('configs/base.yaml')\n",
    "args      = OmegaConf.merge(base_cfg, cfg)\n",
    "\n",
    "# # dataset = Waterbirds('/shared/lisabdunlap/vl-attention/data', args)\n",
    "# transform = transforms.Compose([\n",
    "#             transforms.Resize((224,224)),\n",
    "#             transforms.ToTensor(),\n",
    "#             # transforms.Normalize([0.485, 0.456, 0.406], [0.229, 0.224, 0.225])\n",
    "#         ])\n",
    "\n",
    "# dataset = WaterbirdsEditing('/shared/lisabdunlap/vl-attention/data', args, transform=None)\n",
    "# waterbirds = {'imgs': [], 'masks':[], 'labels':[]}\n",
    "# # trans1 = transforms.ToTensor()\n",
    "# for i in range(len(dataset)):\n",
    "#     waterbirds['imgs'].append(dataset[i]['img'])\n",
    "#     # invert mask\n",
    "#     mask_copy = np.ones(dataset[i]['mask'].shape)\n",
    "#     waterbirds['masks'].append(np.logical_xor(mask_copy, dataset[i]['mask']))\n",
    "#     waterbirds['labels'].append(dataset[i]['label'])\n",
    "# data = {}\n",
    "# data['imgs'] = ch.stack(waterbirds['imgs'])\n",
    "# data['masks'] = ch.stack(waterbirds['masks'])\n",
    "# data['labels'] = ch.stack(waterbirds['labels'])\n",
    "# ch.save(data, 'data/waterbirds/data.pt')\n",
    "dataset[0]"
   ]
  }
 ],
 "metadata": {
  "interpreter": {
   "hash": "90813b6814d2877396ec28b92d1de38839a549ecae4005045e743d724a32c54b"
  },
  "kernelspec": {
   "display_name": "Python 3.8.12 64-bit ('editing': conda)",
   "language": "python",
   "name": "python3"
  },
  "language_info": {
   "codemirror_mode": {
    "name": "ipython",
    "version": 3
   },
   "file_extension": ".py",
   "mimetype": "text/x-python",
   "name": "python",
   "nbconvert_exporter": "python",
   "pygments_lexer": "ipython3",
   "version": "3.8.12"
  },
  "orig_nbformat": 4
 },
 "nbformat": 4,
 "nbformat_minor": 2
}
