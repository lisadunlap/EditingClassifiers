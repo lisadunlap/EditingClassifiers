{
 "cells": [
  {
   "cell_type": "code",
   "execution_count": 1,
   "metadata": {},
   "outputs": [],
   "source": [
    "import sys, os, warnings\n",
    "from argparse import Namespace\n",
    "warnings.filterwarnings(\"ignore\")\n",
    "\n",
    "import torch as ch\n",
    "from torchvision import transforms\n",
    "import numpy as np\n",
    "from PIL import Image\n",
    "from tqdm import tqdm\n",
    "import torchvision\n",
    "\n",
    "from helpers import classifier_helpers\n",
    "import helpers.data_helpers as dh\n",
    "import helpers.context_helpers as coh\n",
    "import helpers.rewrite_helpers as rh\n",
    "import helpers.vis_helpers as vh\n",
    "\n",
    "import matplotlib.pyplot as plt\n",
    "import random\n",
    "\n",
    "import helpers.new_testing as nt\n",
    "from helpers.new_testing import IMAGENET_CLASSES\n",
    "from helpers.waterbirds import Waterbirds\n",
    "\n",
    "%matplotlib inline"
   ]
  },
  {
   "cell_type": "code",
   "execution_count": 3,
   "metadata": {},
   "outputs": [
    {
     "name": "stdout",
     "output_type": "stream",
     "text": [
      "WATERBIRDS DIR: /shared/lisabdunlap/vl-attention/data/waterbird_1.0_forest2water2\n",
      "NUMBER OF SAMPLES WITH LABEL Landbird: 0\n",
      "NUMBER OF SAMPLES WITH LABEL Waterbird: 5\n",
      "NUMBER OF SAMPLES WITH GROUP Land_on_Land: 0\n",
      "NUMBER OF SAMPLES WITH GROUP Land_on_Water: 0\n",
      "NUMBER OF SAMPLES WITH GROUP Water_on_Land: 0\n",
      "NUMBER OF SAMPLES WITH GROUP Water_on_Water: 5\n"
     ]
    },
    {
     "ename": "TypeError",
     "evalue": "tuple indices must be integers or slices, not str",
     "output_type": "error",
     "traceback": [
      "\u001b[0;31m---------------------------------------------------------------------------\u001b[0m",
      "\u001b[0;31mTypeError\u001b[0m                                 Traceback (most recent call last)",
      "\u001b[0;32m/tmp/ipykernel_2335565/3137333644.py\u001b[0m in \u001b[0;36m<module>\u001b[0;34m\u001b[0m\n\u001b[1;32m     29\u001b[0m \u001b[0;31m# data['labels'] = ch.stack(waterbirds['labels'])\u001b[0m\u001b[0;34m\u001b[0m\u001b[0;34m\u001b[0m\u001b[0;34m\u001b[0m\u001b[0m\n\u001b[1;32m     30\u001b[0m \u001b[0;31m# ch.save(data, 'data/waterbirds/data.pt')\u001b[0m\u001b[0;34m\u001b[0m\u001b[0;34m\u001b[0m\u001b[0;34m\u001b[0m\u001b[0m\n\u001b[0;32m---> 31\u001b[0;31m \u001b[0mdataset\u001b[0m\u001b[0;34m[\u001b[0m\u001b[0;36m0\u001b[0m\u001b[0;34m]\u001b[0m\u001b[0;34m\u001b[0m\u001b[0;34m\u001b[0m\u001b[0m\n\u001b[0m",
      "\u001b[0;32m~/EditingClassifiers/helpers/waterbirds.py\u001b[0m in \u001b[0;36m__getitem__\u001b[0;34m(self, index)\u001b[0m\n\u001b[1;32m    300\u001b[0m         \u001b[0mresults\u001b[0m \u001b[0;34m=\u001b[0m \u001b[0msuper\u001b[0m\u001b[0;34m(\u001b[0m\u001b[0;34m)\u001b[0m\u001b[0;34m.\u001b[0m\u001b[0m__getitem__\u001b[0m\u001b[0;34m(\u001b[0m\u001b[0mindex\u001b[0m\u001b[0;34m)\u001b[0m\u001b[0;34m\u001b[0m\u001b[0;34m\u001b[0m\u001b[0m\n\u001b[1;32m    301\u001b[0m         return {\n\u001b[0;32m--> 302\u001b[0;31m             \u001b[0;34m'img'\u001b[0m\u001b[0;34m:\u001b[0m \u001b[0mresults\u001b[0m\u001b[0;34m[\u001b[0m\u001b[0;34m'image'\u001b[0m\u001b[0;34m]\u001b[0m\u001b[0;34m,\u001b[0m\u001b[0;34m\u001b[0m\u001b[0;34m\u001b[0m\u001b[0m\n\u001b[0m\u001b[1;32m    303\u001b[0m             \u001b[0;34m'mask'\u001b[0m\u001b[0;34m:\u001b[0m \u001b[0mresults\u001b[0m\u001b[0;34m[\u001b[0m\u001b[0;34m'seg'\u001b[0m\u001b[0;34m]\u001b[0m\u001b[0;34m,\u001b[0m\u001b[0;34m\u001b[0m\u001b[0;34m\u001b[0m\u001b[0m\n\u001b[1;32m    304\u001b[0m             \u001b[0;34m'label'\u001b[0m\u001b[0;34m:\u001b[0m \u001b[0mresults\u001b[0m\u001b[0;34m[\u001b[0m\u001b[0;34m'label'\u001b[0m\u001b[0;34m]\u001b[0m\u001b[0;34m\u001b[0m\u001b[0;34m\u001b[0m\u001b[0m\n",
      "\u001b[0;31mTypeError\u001b[0m: tuple indices must be integers or slices, not str"
     ]
    }
   ],
   "source": [
    "from omegaconf import OmegaConf\n",
    "\n",
    "from helpers.waterbirds import Waterbirds, WaterbirdsEditing\n",
    "\n",
    "# overrides = OmegaConf.from_cli(flags.overrides)\n",
    "cfg       = OmegaConf.load('configs/waterbirds.yaml')\n",
    "base_cfg  = OmegaConf.load('configs/base.yaml')\n",
    "args      = OmegaConf.merge(base_cfg, cfg)\n",
    "\n",
    "# # dataset = Waterbirds('/shared/lisabdunlap/vl-attention/data', args)\n",
    "# transform = transforms.Compose([\n",
    "#             transforms.Resize((224,224)),\n",
    "#             transforms.ToTensor(),\n",
    "#             # transforms.Normalize([0.485, 0.456, 0.406], [0.229, 0.224, 0.225])\n",
    "#         ])\n",
    "\n",
    "# dataset = WaterbirdsEditing('/shared/lisabdunlap/vl-attention/data', args, transform=None)\n",
    "# waterbirds = {'imgs': [], 'masks':[], 'labels':[]}\n",
    "# # trans1 = transforms.ToTensor()\n",
    "# for i in range(len(dataset)):\n",
    "#     waterbirds['imgs'].append(dataset[i]['img'])\n",
    "#     # invert mask\n",
    "#     mask_copy = np.ones(dataset[i]['mask'].shape)\n",
    "#     waterbirds['masks'].append(np.logical_xor(mask_copy, dataset[i]['mask']))\n",
    "#     waterbirds['labels'].append(dataset[i]['label'])\n",
    "# data = {}\n",
    "# data['imgs'] = ch.stack(waterbirds['imgs'])\n",
    "# data['masks'] = ch.stack(waterbirds['masks'])\n",
    "# data['labels'] = ch.stack(waterbirds['labels'])\n",
    "# ch.save(data, 'data/waterbirds/data.pt')\n",
    "dataset[0]"
   ]
  }
 ],
 "metadata": {
  "interpreter": {
   "hash": "90813b6814d2877396ec28b92d1de38839a549ecae4005045e743d724a32c54b"
  },
  "kernelspec": {
   "display_name": "Python 3.8.12 64-bit ('editing': conda)",
   "language": "python",
   "name": "python3"
  },
  "language_info": {
   "codemirror_mode": {
    "name": "ipython",
    "version": 3
   },
   "file_extension": ".py",
   "mimetype": "text/x-python",
   "name": "python",
   "nbconvert_exporter": "python",
   "pygments_lexer": "ipython3",
   "version": "3.8.12"
  },
  "orig_nbformat": 4
 },
 "nbformat": 4,
 "nbformat_minor": 2
}
