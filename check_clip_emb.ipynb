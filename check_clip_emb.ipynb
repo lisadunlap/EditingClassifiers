{
 "cells": [
  {
   "cell_type": "code",
   "execution_count": 13,
   "metadata": {},
   "outputs": [],
   "source": [
    "import os\n",
    "import clip\n",
    "import torch\n",
    "\n",
    "import numpy as np\n",
    "from sklearn.linear_model import LogisticRegression\n",
    "from torch.utils.data import DataLoader\n",
    "from torchvision.datasets import CIFAR100\n",
    "from tqdm import tqdm\n",
    "import wandb\n",
    "import argparse\n",
    "import pandas as pd\n",
    "import seaborn as sns\n",
    "import matplotlib.pyplot as plt\n",
    "\n",
    "from scipy.spatial import distance\n",
    "from helpers.clip_transformations import *\n",
    "from sklearn.decomposition import PCA\n",
    "\n",
    "def get_features(dataset):\n",
    "    all_features = []\n",
    "    all_labels = []\n",
    "    \n",
    "    with torch.no_grad():\n",
    "        for images, labels in tqdm(dataset):\n",
    "            features = model.encode_image(images.to(device))\n",
    "\n",
    "            all_features.append(features)\n",
    "            all_labels.append(labels)\n",
    "\n",
    "    return torch.cat(all_features).cpu().numpy(), torch.cat(all_labels).cpu().numpy()"
   ]
  },
  {
   "cell_type": "code",
   "execution_count": 2,
   "metadata": {},
   "outputs": [
    {
     "name": "stdout",
     "output_type": "stream",
     "text": [
      "WATERBIRDS DIR: /shared/lisabdunlap/vl-attention/data/waterbird_1.0_forest2water2\n",
      "NUMBER OF SAMPLES WITH LABEL Landbird: 3694\n",
      "NUMBER OF SAMPLES WITH LABEL Waterbird: 1101\n",
      "NUMBER OF SAMPLES WITH GROUP Land_on_Land: 3694\n",
      "NUMBER OF SAMPLES WITH GROUP Land_on_Water: 0\n",
      "NUMBER OF SAMPLES WITH GROUP Water_on_Land: 0\n",
      "NUMBER OF SAMPLES WITH GROUP Water_on_Water: 1101\n",
      "WATERBIRDS DIR: /shared/lisabdunlap/vl-attention/data/waterbird_1.0_forest2water2\n",
      "NUMBER OF SAMPLES WITH LABEL Landbird: 921\n",
      "NUMBER OF SAMPLES WITH LABEL Waterbird: 278\n",
      "NUMBER OF SAMPLES WITH GROUP Land_on_Land: 461\n",
      "NUMBER OF SAMPLES WITH GROUP Land_on_Water: 460\n",
      "NUMBER OF SAMPLES WITH GROUP Water_on_Land: 139\n",
      "NUMBER OF SAMPLES WITH GROUP Water_on_Water: 139\n"
     ]
    },
    {
     "name": "stderr",
     "output_type": "stream",
     "text": [
      "100%|████████████████████████████████████████████████████████████████████████████████████████████████████████████████████████████████████████████████████████████████████████████████████████████████████████████████| 4795/4795 [02:02<00:00, 39.30it/s]\n",
      "100%|████████████████████████████████████████████████████████████████████████████████████████████████████████████████████████████████████████████████████████████████████████████████████████████████████████████████| 1199/1199 [00:32<00:00, 36.58it/s]\n"
     ]
    }
   ],
   "source": [
    "import helpers.data_helpers as dh\n",
    "DATASET_NAME = 'Waterbirds'\n",
    "\n",
    "# load data\n",
    "base_dataset, train_loader, val_loader = dh.get_dataset(DATASET_NAME, '/shared/group/ilsvrc',\n",
    "                                                        batch_size=1, workers=8)\n",
    "\n",
    "# Load the model\n",
    "device = \"cuda\" if torch.cuda.is_available() else \"cpu\"\n",
    "model, preprocess = clip.load('ViT-B/32', device)\n",
    "train_features, train_labels = get_features(train_loader)\n",
    "test_features, test_labels = get_features(val_loader)"
   ]
  },
  {
   "cell_type": "code",
   "execution_count": 3,
   "metadata": {},
   "outputs": [
    {
     "data": {
      "text/plain": [
       "((4795,), (4795, 512))"
      ]
     },
     "execution_count": 3,
     "metadata": {},
     "output_type": "execute_result"
    }
   ],
   "source": [
    "train_labels.shape, train_features.shape"
   ]
  },
  {
   "cell_type": "code",
   "execution_count": 4,
   "metadata": {},
   "outputs": [
    {
     "data": {
      "text/html": [
       "<div>\n",
       "<style scoped>\n",
       "    .dataframe tbody tr th:only-of-type {\n",
       "        vertical-align: middle;\n",
       "    }\n",
       "\n",
       "    .dataframe tbody tr th {\n",
       "        vertical-align: top;\n",
       "    }\n",
       "\n",
       "    .dataframe thead th {\n",
       "        text-align: right;\n",
       "    }\n",
       "</style>\n",
       "<table border=\"1\" class=\"dataframe\">\n",
       "  <thead>\n",
       "    <tr style=\"text-align: right;\">\n",
       "      <th></th>\n",
       "      <th>label</th>\n",
       "      <th>text</th>\n",
       "      <th>text id</th>\n",
       "      <th>sim</th>\n",
       "    </tr>\n",
       "  </thead>\n",
       "  <tbody>\n",
       "    <tr>\n",
       "      <th>0</th>\n",
       "      <td>0</td>\n",
       "      <td>an image of a bird in the forest</td>\n",
       "      <td>0</td>\n",
       "      <td>0.297119</td>\n",
       "    </tr>\n",
       "    <tr>\n",
       "      <th>1</th>\n",
       "      <td>0</td>\n",
       "      <td>an image of a bird on the lake</td>\n",
       "      <td>1</td>\n",
       "      <td>0.261963</td>\n",
       "    </tr>\n",
       "    <tr>\n",
       "      <th>2</th>\n",
       "      <td>0</td>\n",
       "      <td>an image of a bird</td>\n",
       "      <td>2</td>\n",
       "      <td>0.273926</td>\n",
       "    </tr>\n",
       "    <tr>\n",
       "      <th>3</th>\n",
       "      <td>0</td>\n",
       "      <td>an image of a bird in the forest</td>\n",
       "      <td>0</td>\n",
       "      <td>0.257812</td>\n",
       "    </tr>\n",
       "    <tr>\n",
       "      <th>4</th>\n",
       "      <td>0</td>\n",
       "      <td>an image of a bird on the lake</td>\n",
       "      <td>1</td>\n",
       "      <td>0.255615</td>\n",
       "    </tr>\n",
       "    <tr>\n",
       "      <th>...</th>\n",
       "      <td>...</td>\n",
       "      <td>...</td>\n",
       "      <td>...</td>\n",
       "      <td>...</td>\n",
       "    </tr>\n",
       "    <tr>\n",
       "      <th>14380</th>\n",
       "      <td>0</td>\n",
       "      <td>an image of a bird on the lake</td>\n",
       "      <td>1</td>\n",
       "      <td>0.266846</td>\n",
       "    </tr>\n",
       "    <tr>\n",
       "      <th>14381</th>\n",
       "      <td>0</td>\n",
       "      <td>an image of a bird</td>\n",
       "      <td>2</td>\n",
       "      <td>0.265625</td>\n",
       "    </tr>\n",
       "    <tr>\n",
       "      <th>14382</th>\n",
       "      <td>0</td>\n",
       "      <td>an image of a bird in the forest</td>\n",
       "      <td>0</td>\n",
       "      <td>0.318848</td>\n",
       "    </tr>\n",
       "    <tr>\n",
       "      <th>14383</th>\n",
       "      <td>0</td>\n",
       "      <td>an image of a bird on the lake</td>\n",
       "      <td>1</td>\n",
       "      <td>0.295166</td>\n",
       "    </tr>\n",
       "    <tr>\n",
       "      <th>14384</th>\n",
       "      <td>0</td>\n",
       "      <td>an image of a bird</td>\n",
       "      <td>2</td>\n",
       "      <td>0.301025</td>\n",
       "    </tr>\n",
       "  </tbody>\n",
       "</table>\n",
       "<p>14385 rows × 4 columns</p>\n",
       "</div>"
      ],
      "text/plain": [
       "       label                              text  text id       sim\n",
       "0          0  an image of a bird in the forest        0  0.297119\n",
       "1          0    an image of a bird on the lake        1  0.261963\n",
       "2          0                an image of a bird        2  0.273926\n",
       "3          0  an image of a bird in the forest        0  0.257812\n",
       "4          0    an image of a bird on the lake        1  0.255615\n",
       "...      ...                               ...      ...       ...\n",
       "14380      0    an image of a bird on the lake        1  0.266846\n",
       "14381      0                an image of a bird        2  0.265625\n",
       "14382      0  an image of a bird in the forest        0  0.318848\n",
       "14383      0    an image of a bird on the lake        1  0.295166\n",
       "14384      0                an image of a bird        2  0.301025\n",
       "\n",
       "[14385 rows x 4 columns]"
      ]
     },
     "execution_count": 4,
     "metadata": {},
     "output_type": "execute_result"
    }
   ],
   "source": [
    "bias_correction = BiasCorrection([\"an image of a bird in the forest\", \"an image of a bird on the lake\", \"an image of a bird\"], model)\n",
    "data = bias_correction.calc_dist(train_features, train_labels)\n",
    "data"
   ]
  },
  {
   "cell_type": "code",
   "execution_count": 7,
   "metadata": {},
   "outputs": [
    {
     "data": {
      "text/plain": [
       "Text(0.5, 1.0, 'Waterbird')"
      ]
     },
     "execution_count": 7,
     "metadata": {},
     "output_type": "execute_result"
    },
    {
     "data": {
      "image/png": "[encoded data removed]",
      "text/plain": [
       "<Figure size 1080x360 with 2 Axes>"
      ]
     },
     "metadata": {
      "needs_background": "light"
     },
     "output_type": "display_data"
    }
   ],
   "source": [
    "# data.groupby([\"label\", \"text id\"])[\"sim\"].median()\n",
    "fig, (ax1, ax2) = plt.subplots(1, 2,figsize=(15,5))\n",
    "sns.histplot(x='sim', hue='text', data=data[data['label'] == 0], ax=ax1)\n",
    "ax1.set_title('Landbird')\n",
    "sns.histplot(x='sim', hue='text', data=data[data['label'] == 1], ax=ax2)\n",
    "ax2.set_title('Waterbird')"
   ]
  },
  {
   "cell_type": "code",
   "execution_count": 5,
   "metadata": {},
   "outputs": [
    {
     "data": {
      "text/plain": [
       "Text(0.5, 1.0, 'Waterbird')"
      ]
     },
     "execution_count": 5,
     "metadata": {},
     "output_type": "execute_result"
    },
    {
     "data": {
      "image/png": "[encoded data removed]",
      "text/plain": [
       "<Figure size 1080x360 with 2 Axes>"
      ]
     },
     "metadata": {
      "needs_background": "light"
     },
     "output_type": "display_data"
    }
   ],
   "source": [
    "bias_correction = BiasCorrection([\"an image of a bird in the forest\", \"an image of a bird on the lake\", \"an image of a bird\"], model)\n",
    "data = bias_correction.calc_dist(test_features, test_labels)\n",
    "fig, (ax1, ax2) = plt.subplots(1, 2,figsize=(15,5))\n",
    "sns.histplot(x='sim', hue='text', data=data[data['label'] == 0], ax=ax1)\n",
    "ax1.set_title('Landbird')\n",
    "sns.histplot(x='sim', hue='text', data=data[data['label'] == 1], ax=ax2)\n",
    "ax2.set_title('Waterbird')"
   ]
  },
  {
   "cell_type": "code",
   "execution_count": 9,
   "metadata": {},
   "outputs": [
    {
     "data": {
      "text/plain": [
       "<AxesSubplot:xlabel='sim', ylabel='Count'>"
      ]
     },
     "execution_count": 9,
     "metadata": {},
     "output_type": "execute_result"
    },
    {
     "data": {
      "image/png": "[encoded data removed]",
      "text/plain": [
       "<Figure size 432x288 with 1 Axes>"
      ]
     },
     "metadata": {
      "needs_background": "light"
     },
     "output_type": "display_data"
    }
   ],
   "source": [
    "projected_emb = bias_correction.apply(train_features)\n",
    "proj_data = bias_correction.calc_dist(projected_emb, train_labels)\n",
    "sns.histplot(x='sim', hue='text id', data=proj_data[proj_data['label'] == 0])"
   ]
  },
  {
   "cell_type": "code",
   "execution_count": 10,
   "metadata": {},
   "outputs": [
    {
     "data": {
      "text/html": [
       "<div>\n",
       "<style scoped>\n",
       "    .dataframe tbody tr th:only-of-type {\n",
       "        vertical-align: middle;\n",
       "    }\n",
       "\n",
       "    .dataframe tbody tr th {\n",
       "        vertical-align: top;\n",
       "    }\n",
       "\n",
       "    .dataframe thead th {\n",
       "        text-align: right;\n",
       "    }\n",
       "</style>\n",
       "<table border=\"1\" class=\"dataframe\">\n",
       "  <thead>\n",
       "    <tr style=\"text-align: right;\">\n",
       "      <th></th>\n",
       "      <th>label</th>\n",
       "      <th>text</th>\n",
       "      <th>text id</th>\n",
       "      <th>sim</th>\n",
       "    </tr>\n",
       "  </thead>\n",
       "  <tbody>\n",
       "    <tr>\n",
       "      <th>0</th>\n",
       "      <td>0</td>\n",
       "      <td>an image of a bird in the forest</td>\n",
       "      <td>0</td>\n",
       "      <td>-0.965055</td>\n",
       "    </tr>\n",
       "    <tr>\n",
       "      <th>1</th>\n",
       "      <td>0</td>\n",
       "      <td>an image of a bird on the lake</td>\n",
       "      <td>1</td>\n",
       "      <td>-0.968423</td>\n",
       "    </tr>\n",
       "    <tr>\n",
       "      <th>2</th>\n",
       "      <td>0</td>\n",
       "      <td>an image of a bird</td>\n",
       "      <td>2</td>\n",
       "      <td>-0.977017</td>\n",
       "    </tr>\n",
       "    <tr>\n",
       "      <th>3</th>\n",
       "      <td>0</td>\n",
       "      <td>an image of a bird in the forest</td>\n",
       "      <td>0</td>\n",
       "      <td>-0.730540</td>\n",
       "    </tr>\n",
       "    <tr>\n",
       "      <th>4</th>\n",
       "      <td>0</td>\n",
       "      <td>an image of a bird on the lake</td>\n",
       "      <td>1</td>\n",
       "      <td>-0.734603</td>\n",
       "    </tr>\n",
       "    <tr>\n",
       "      <th>...</th>\n",
       "      <td>...</td>\n",
       "      <td>...</td>\n",
       "      <td>...</td>\n",
       "      <td>...</td>\n",
       "    </tr>\n",
       "    <tr>\n",
       "      <th>14380</th>\n",
       "      <td>0</td>\n",
       "      <td>an image of a bird on the lake</td>\n",
       "      <td>1</td>\n",
       "      <td>0.050067</td>\n",
       "    </tr>\n",
       "    <tr>\n",
       "      <th>14381</th>\n",
       "      <td>0</td>\n",
       "      <td>an image of a bird</td>\n",
       "      <td>2</td>\n",
       "      <td>0.051507</td>\n",
       "    </tr>\n",
       "    <tr>\n",
       "      <th>14382</th>\n",
       "      <td>0</td>\n",
       "      <td>an image of a bird in the forest</td>\n",
       "      <td>0</td>\n",
       "      <td>0.052197</td>\n",
       "    </tr>\n",
       "    <tr>\n",
       "      <th>14383</th>\n",
       "      <td>0</td>\n",
       "      <td>an image of a bird on the lake</td>\n",
       "      <td>1</td>\n",
       "      <td>0.050067</td>\n",
       "    </tr>\n",
       "    <tr>\n",
       "      <th>14384</th>\n",
       "      <td>0</td>\n",
       "      <td>an image of a bird</td>\n",
       "      <td>2</td>\n",
       "      <td>0.051508</td>\n",
       "    </tr>\n",
       "  </tbody>\n",
       "</table>\n",
       "<p>14385 rows × 4 columns</p>\n",
       "</div>"
      ],
      "text/plain": [
       "       label                              text  text id       sim\n",
       "0          0  an image of a bird in the forest        0 -0.965055\n",
       "1          0    an image of a bird on the lake        1 -0.968423\n",
       "2          0                an image of a bird        2 -0.977017\n",
       "3          0  an image of a bird in the forest        0 -0.730540\n",
       "4          0    an image of a bird on the lake        1 -0.734603\n",
       "...      ...                               ...      ...       ...\n",
       "14380      0    an image of a bird on the lake        1  0.050067\n",
       "14381      0                an image of a bird        2  0.051507\n",
       "14382      0  an image of a bird in the forest        0  0.052197\n",
       "14383      0    an image of a bird on the lake        1  0.050067\n",
       "14384      0                an image of a bird        2  0.051508\n",
       "\n",
       "[14385 rows x 4 columns]"
      ]
     },
     "execution_count": 10,
     "metadata": {},
     "output_type": "execute_result"
    }
   ],
   "source": [
    "proj_data"
   ]
  },
  {
   "cell_type": "code",
   "execution_count": 11,
   "metadata": {},
   "outputs": [
    {
     "data": {
      "text/html": [
       "<div>\n",
       "<style scoped>\n",
       "    .dataframe tbody tr th:only-of-type {\n",
       "        vertical-align: middle;\n",
       "    }\n",
       "\n",
       "    .dataframe tbody tr th {\n",
       "        vertical-align: top;\n",
       "    }\n",
       "\n",
       "    .dataframe thead th {\n",
       "        text-align: right;\n",
       "    }\n",
       "</style>\n",
       "<table border=\"1\" class=\"dataframe\">\n",
       "  <thead>\n",
       "    <tr style=\"text-align: right;\">\n",
       "      <th></th>\n",
       "      <th>label</th>\n",
       "      <th>text</th>\n",
       "      <th>text id</th>\n",
       "      <th>sim</th>\n",
       "    </tr>\n",
       "  </thead>\n",
       "  <tbody>\n",
       "    <tr>\n",
       "      <th>0</th>\n",
       "      <td>0</td>\n",
       "      <td>an image of a bird in the forest</td>\n",
       "      <td>0</td>\n",
       "      <td>-0.965055</td>\n",
       "    </tr>\n",
       "    <tr>\n",
       "      <th>1</th>\n",
       "      <td>0</td>\n",
       "      <td>an image of a bird on the lake</td>\n",
       "      <td>1</td>\n",
       "      <td>-0.968423</td>\n",
       "    </tr>\n",
       "    <tr>\n",
       "      <th>2</th>\n",
       "      <td>0</td>\n",
       "      <td>an image of a bird</td>\n",
       "      <td>2</td>\n",
       "      <td>-0.977017</td>\n",
       "    </tr>\n",
       "    <tr>\n",
       "      <th>3</th>\n",
       "      <td>1</td>\n",
       "      <td>an image of a bird in the forest</td>\n",
       "      <td>0</td>\n",
       "      <td>-0.730540</td>\n",
       "    </tr>\n",
       "    <tr>\n",
       "      <th>4</th>\n",
       "      <td>1</td>\n",
       "      <td>an image of a bird on the lake</td>\n",
       "      <td>1</td>\n",
       "      <td>-0.734603</td>\n",
       "    </tr>\n",
       "    <tr>\n",
       "      <th>...</th>\n",
       "      <td>...</td>\n",
       "      <td>...</td>\n",
       "      <td>...</td>\n",
       "      <td>...</td>\n",
       "    </tr>\n",
       "    <tr>\n",
       "      <th>14380</th>\n",
       "      <td>1</td>\n",
       "      <td>an image of a bird on the lake</td>\n",
       "      <td>1</td>\n",
       "      <td>0.050067</td>\n",
       "    </tr>\n",
       "    <tr>\n",
       "      <th>14381</th>\n",
       "      <td>1</td>\n",
       "      <td>an image of a bird</td>\n",
       "      <td>2</td>\n",
       "      <td>0.051507</td>\n",
       "    </tr>\n",
       "    <tr>\n",
       "      <th>14382</th>\n",
       "      <td>0</td>\n",
       "      <td>an image of a bird in the forest</td>\n",
       "      <td>0</td>\n",
       "      <td>0.052197</td>\n",
       "    </tr>\n",
       "    <tr>\n",
       "      <th>14383</th>\n",
       "      <td>0</td>\n",
       "      <td>an image of a bird on the lake</td>\n",
       "      <td>1</td>\n",
       "      <td>0.050067</td>\n",
       "    </tr>\n",
       "    <tr>\n",
       "      <th>14384</th>\n",
       "      <td>0</td>\n",
       "      <td>an image of a bird</td>\n",
       "      <td>2</td>\n",
       "      <td>0.051508</td>\n",
       "    </tr>\n",
       "  </tbody>\n",
       "</table>\n",
       "<p>14385 rows × 4 columns</p>\n",
       "</div>"
      ],
      "text/plain": [
       "       label                              text  text id       sim\n",
       "0          0  an image of a bird in the forest        0 -0.965055\n",
       "1          0    an image of a bird on the lake        1 -0.968423\n",
       "2          0                an image of a bird        2 -0.977017\n",
       "3          1  an image of a bird in the forest        0 -0.730540\n",
       "4          1    an image of a bird on the lake        1 -0.734603\n",
       "...      ...                               ...      ...       ...\n",
       "14380      1    an image of a bird on the lake        1  0.050067\n",
       "14381      1                an image of a bird        2  0.051507\n",
       "14382      0  an image of a bird in the forest        0  0.052197\n",
       "14383      0    an image of a bird on the lake        1  0.050067\n",
       "14384      0                an image of a bird        2  0.051508\n",
       "\n",
       "[14385 rows x 4 columns]"
      ]
     },
     "execution_count": 11,
     "metadata": {},
     "output_type": "execute_result"
    }
   ],
   "source": [
    "edited_embeddings = bias_correction.apply(train_features)\n",
    "edited_data = bias_correction.calc_dist(edited_embeddings, train_labels)\n",
    "fig, (ax1, ax2) = plt.subplots(1, 2,figsize=(15,5))\n",
    "sns.histplot(x='sim', hue='text', data=edited_data[edited_data['label'] == 0], ax=ax1)\n",
    "ax1.set_title('Landbird')\n",
    "sns.histplot(x='sim', hue='text', data=edited_data[edited_data['label'] == 1], ax=ax2)\n",
    "ax2.set_title('Waterbird')\n",
    "edited_data"
   ]
  },
  {
   "cell_type": "code",
   "execution_count": 16,
   "metadata": {},
   "outputs": [],
   "source": [
    "# (np.dot(a, b) / np.dot(b, b)) * b\n",
    "land_emb, water_emb = bias_correction.text_embeddings\n",
    "projected_emb = []\n",
    "for i in range(train_features.shape[0]):\n",
    "    a = train_features[i]\n",
    "    b = land_emb\n",
    "    land_proj = (np.dot(a, b) / np.dot(b, b)) * b\n",
    "    c = water_emb\n",
    "    water_proj = (np.dot(a, c) / np.dot(c, c)) * c\n",
    "    projected_emb.append(np.abs(land_proj - water_proj))\n",
    "\n",
    "projected_emb = np.array(projected_emb)"
   ]
  },
  {
   "cell_type": "code",
   "execution_count": 17,
   "metadata": {},
   "outputs": [
    {
     "data": {
      "text/html": [
       "<div>\n",
       "<style scoped>\n",
       "    .dataframe tbody tr th:only-of-type {\n",
       "        vertical-align: middle;\n",
       "    }\n",
       "\n",
       "    .dataframe tbody tr th {\n",
       "        vertical-align: top;\n",
       "    }\n",
       "\n",
       "    .dataframe thead th {\n",
       "        text-align: right;\n",
       "    }\n",
       "</style>\n",
       "<table border=\"1\" class=\"dataframe\">\n",
       "  <thead>\n",
       "    <tr style=\"text-align: right;\">\n",
       "      <th></th>\n",
       "      <th>label</th>\n",
       "      <th>text</th>\n",
       "      <th>text id</th>\n",
       "      <th>sim</th>\n",
       "    </tr>\n",
       "  </thead>\n",
       "  <tbody>\n",
       "    <tr>\n",
       "      <th>0</th>\n",
       "      <td>0</td>\n",
       "      <td>an image of a forest</td>\n",
       "      <td>0</td>\n",
       "      <td>0.206421</td>\n",
       "    </tr>\n",
       "    <tr>\n",
       "      <th>1</th>\n",
       "      <td>0</td>\n",
       "      <td>an image of a lake</td>\n",
       "      <td>1</td>\n",
       "      <td>0.214600</td>\n",
       "    </tr>\n",
       "    <tr>\n",
       "      <th>2</th>\n",
       "      <td>0</td>\n",
       "      <td>an image of a forest</td>\n",
       "      <td>0</td>\n",
       "      <td>0.295410</td>\n",
       "    </tr>\n",
       "    <tr>\n",
       "      <th>3</th>\n",
       "      <td>0</td>\n",
       "      <td>an image of a lake</td>\n",
       "      <td>1</td>\n",
       "      <td>0.300049</td>\n",
       "    </tr>\n",
       "    <tr>\n",
       "      <th>4</th>\n",
       "      <td>1</td>\n",
       "      <td>an image of a forest</td>\n",
       "      <td>0</td>\n",
       "      <td>0.196045</td>\n",
       "    </tr>\n",
       "    <tr>\n",
       "      <th>...</th>\n",
       "      <td>...</td>\n",
       "      <td>...</td>\n",
       "      <td>...</td>\n",
       "      <td>...</td>\n",
       "    </tr>\n",
       "    <tr>\n",
       "      <th>2319</th>\n",
       "      <td>0</td>\n",
       "      <td>an image of a lake</td>\n",
       "      <td>1</td>\n",
       "      <td>0.233521</td>\n",
       "    </tr>\n",
       "    <tr>\n",
       "      <th>2320</th>\n",
       "      <td>0</td>\n",
       "      <td>an image of a forest</td>\n",
       "      <td>0</td>\n",
       "      <td>0.196533</td>\n",
       "    </tr>\n",
       "    <tr>\n",
       "      <th>2321</th>\n",
       "      <td>0</td>\n",
       "      <td>an image of a lake</td>\n",
       "      <td>1</td>\n",
       "      <td>0.205078</td>\n",
       "    </tr>\n",
       "    <tr>\n",
       "      <th>2322</th>\n",
       "      <td>1</td>\n",
       "      <td>an image of a forest</td>\n",
       "      <td>0</td>\n",
       "      <td>0.287598</td>\n",
       "    </tr>\n",
       "    <tr>\n",
       "      <th>2323</th>\n",
       "      <td>1</td>\n",
       "      <td>an image of a lake</td>\n",
       "      <td>1</td>\n",
       "      <td>0.301514</td>\n",
       "    </tr>\n",
       "  </tbody>\n",
       "</table>\n",
       "<p>2324 rows × 4 columns</p>\n",
       "</div>"
      ],
      "text/plain": [
       "      label                  text  text id       sim\n",
       "0         0  an image of a forest        0  0.206421\n",
       "1         0    an image of a lake        1  0.214600\n",
       "2         0  an image of a forest        0  0.295410\n",
       "3         0    an image of a lake        1  0.300049\n",
       "4         1  an image of a forest        0  0.196045\n",
       "...     ...                   ...      ...       ...\n",
       "2319      0    an image of a lake        1  0.233521\n",
       "2320      0  an image of a forest        0  0.196533\n",
       "2321      0    an image of a lake        1  0.205078\n",
       "2322      1  an image of a forest        0  0.287598\n",
       "2323      1    an image of a lake        1  0.301514\n",
       "\n",
       "[2324 rows x 4 columns]"
      ]
     },
     "execution_count": 17,
     "metadata": {},
     "output_type": "execute_result"
    }
   ],
   "source": [
    "proj_data = bias_correction.calc_dist(projected_emb, train_labels)\n",
    "proj_data"
   ]
  },
  {
   "cell_type": "code",
   "execution_count": 18,
   "metadata": {},
   "outputs": [
    {
     "data": {
      "text/plain": [
       "<AxesSubplot:xlabel='sim', ylabel='Count'>"
      ]
     },
     "execution_count": 18,
     "metadata": {},
     "output_type": "execute_result"
    },
    {
     "data": {
      "image/png": "[encoded data removed]",
      "text/plain": [
       "<Figure size 432x288 with 1 Axes>"
      ]
     },
     "metadata": {
      "needs_background": "light"
     },
     "output_type": "display_data"
    }
   ],
   "source": [
    "sns.histplot(x='sim', hue='text id', data=proj_data[proj_data['label'] == 0])"
   ]
  },
  {
   "cell_type": "code",
   "execution_count": 19,
   "metadata": {},
   "outputs": [
    {
     "data": {
      "text/plain": [
       "<AxesSubplot:xlabel='sim', ylabel='Count'>"
      ]
     },
     "execution_count": 19,
     "metadata": {},
     "output_type": "execute_result"
    },
    {
     "data": {
      "image/png": "[encoded data removed]",
      "text/plain": [
       "<Figure size 432x288 with 1 Axes>"
      ]
     },
     "metadata": {
      "needs_background": "light"
     },
     "output_type": "display_data"
    }
   ],
   "source": [
    "sns.histplot(x='sim', hue='text id', data=proj_data[proj_data['label'] == 1])"
   ]
  },
  {
   "cell_type": "markdown",
   "metadata": {},
   "source": [
    "## Sentance Debias with CLIP"
   ]
  },
  {
   "cell_type": "code",
   "execution_count": 25,
   "metadata": {},
   "outputs": [],
   "source": [
    "import clip \n",
    "\n",
    "prompts = [\"a photo of\", \"an image of\"]\n",
    "D = [('land', 'water'), ('a forest', 'a lake'), ('a tundra', 'a ocean')]\n",
    "land_prompts = \"a photo of land\", \"an image of land\", \"a photo of a forest\", \"an image of a forest\"\n",
    "water_prompts = \"a photo of water\", \"an image of water\", \"a photo of a lake\", \"an image of a lake\"\n",
    "\n",
    "def get_embedding(prompts):\n",
    "    text_inputs = torch.cat([clip.tokenize(t) for t in prompts]).cuda()\n",
    "    # Calculate features\n",
    "    with torch.no_grad():\n",
    "        text_features = model.encode_text(text_inputs)\n",
    "    return text_features.cpu().numpy()"
   ]
  },
  {
   "cell_type": "code",
   "execution_count": 26,
   "metadata": {},
   "outputs": [
    {
     "data": {
      "text/plain": [
       "array([[-0.09015,  0.3032 ,  0.201  , ..., -0.446  ,  0.1283 ,  0.02065],\n",
       "       [-0.0779 ,  0.364  ,  0.2883 , ..., -0.374  ,  0.2612 , -0.1608 ],\n",
       "       [ 0.2832 ,  0.4158 ,  0.4255 , ..., -0.5337 , -0.2284 , -0.05075],\n",
       "       [ 0.3013 ,  0.407  ,  0.4678 , ..., -0.4504 , -0.1218 , -0.1124 ]],\n",
       "      dtype=float16)"
      ]
     },
     "execution_count": 26,
     "metadata": {},
     "output_type": "execute_result"
    }
   ],
   "source": [
    "land_emb = get_embedding(land_prompts)\n",
    "water_emb = get_embedding(water_prompts)\n",
    "water_emb"
   ]
  },
  {
   "cell_type": "code",
   "execution_count": 27,
   "metadata": {},
   "outputs": [
    {
     "data": {
      "text/plain": [
       "(8, 512)"
      ]
     },
     "execution_count": 27,
     "metadata": {},
     "output_type": "execute_result"
    }
   ],
   "source": [
    "bias_vectors = np.array([l - np.mean(land_emb, axis=0) for l in land_emb] + [w-np.mean(water_emb, axis=0) for w in water_emb])\n",
    "bias_vectors.shape"
   ]
  },
  {
   "cell_type": "code",
   "execution_count": 30,
   "metadata": {},
   "outputs": [
    {
     "data": {
      "text/plain": [
       "PCA(n_components=2, svd_solver='full')"
      ]
     },
     "execution_count": 30,
     "metadata": {},
     "output_type": "execute_result"
    }
   ],
   "source": [
    "from sklearn.decomposition import PCA\n",
    "\n",
    "pca = PCA(n_components=, svd_solver='full')\n",
    "pca.fit(bias_vectors)"
   ]
  },
  {
   "cell_type": "code",
   "execution_count": 34,
   "metadata": {},
   "outputs": [
    {
     "data": {
      "text/plain": [
       "array([[ 0.02659372, -0.02104206,  0.02311246, ...,  0.00917546,\n",
       "        -0.06116743,  0.11125383],\n",
       "       [-0.07777725, -0.0329211 , -0.03592039, ...,  0.02715073,\n",
       "         0.05476361,  0.07304348]])"
      ]
     },
     "execution_count": 34,
     "metadata": {},
     "output_type": "execute_result"
    }
   ],
   "source": [
    "pca.components_"
   ]
  },
  {
   "cell_type": "code",
   "execution_count": 4,
   "metadata": {},
   "outputs": [],
   "source": [
    "class SentenceDebias:\n",
    "    from sklearn.decomposition import PCA\n",
    "\n",
    "    def __init__(self, prompts, model, k=2):\n",
    "        # WARNING: prompts should be a list of lists\n",
    "        self.prompts = prompts\n",
    "        self.model = model\n",
    "        self.d = len(self.prompts[0])\n",
    "        self.embs = []\n",
    "        self.bias_vectors = []\n",
    "        for i in range(len(self.prompts)):\n",
    "            print(self.prompts[i])\n",
    "            emb = self.get_embedding(self.prompts[i])\n",
    "            self.embs.append(emb)\n",
    "            self.bias_vectors += [v - np.mean(emb, axis=0) for v in emb]\n",
    "        pca = PCA(n_components=k, svd_solver='full')\n",
    "        pca.fit(self.bias_vectors)\n",
    "        self.bias_space = pca.components_\n",
    "\n",
    "    @staticmethod\n",
    "    def get_embedding(prompts):\n",
    "        text_inputs = torch.cat([clip.tokenize(t) for t in prompts]).cuda()\n",
    "        # Calculate features\n",
    "        with torch.no_grad():\n",
    "            text_features = model.encode_text(text_inputs)\n",
    "        return text_features.cpu().numpy()\n",
    "\n",
    "    def apply(self, inputs):\n",
    "        ret = []\n",
    "        for h in inputs:\n",
    "            h_v = np.sum([(np.dot(h, b) / np.dot(b, b)) * b for b in self.bias_space], axis=0)\n",
    "            ret.append(h - h_v)\n",
    "        return np.array(ret)\n",
    "        "
   ]
  },
  {
   "cell_type": "code",
   "execution_count": 7,
   "metadata": {},
   "outputs": [
    {
     "name": "stdout",
     "output_type": "stream",
     "text": [
      "['a photo of land', 'an image of land', 'a photo of a forest', 'an image of a forest']\n",
      "['a photo of water', 'an image of water', 'a photo of a lake', 'an image of a lake']\n"
     ]
    }
   ],
   "source": [
    "# Load the model\n",
    "device = \"cuda\" if torch.cuda.is_available() else \"cpu\"\n",
    "model, preprocess = clip.load('ViT-B/32', device)\n",
    "land_prompts = [\"a photo of land\", \"an image of land\", \"a photo of a forest\", \"an image of a forest\"]\n",
    "water_prompts = [\"a photo of water\", \"an image of water\", \"a photo of a lake\", \"an image of a lake\"]\n",
    "sent_bias = SentenceDebias([land_prompts, water_prompts], model)\n",
    "debias_features = sent_bias.apply(train_features)"
   ]
  },
  {
   "cell_type": "code",
   "execution_count": 9,
   "metadata": {},
   "outputs": [],
   "source": [
    "bias_correction = BiasCorrection([\"an image of a forest\", \"an image of a lake\"], model)\n",
    "data = bias_correction.calc_dist(debias_features, train_labels)"
   ]
  },
  {
   "cell_type": "code",
   "execution_count": 10,
   "metadata": {},
   "outputs": [
    {
     "data": {
      "text/plain": [
       "Text(0.5, 1.0, 'Waterbird')"
      ]
     },
     "execution_count": 10,
     "metadata": {},
     "output_type": "execute_result"
    },
    {
     "data": {
      "image/png": "[encoded data removed]",
      "text/plain": [
       "<Figure size 1080x360 with 2 Axes>"
      ]
     },
     "metadata": {
      "needs_background": "light"
     },
     "output_type": "display_data"
    }
   ],
   "source": [
    "fig, (ax1, ax2) = plt.subplots(1, 2,figsize=(15,5))\n",
    "sns.histplot(x='sim', hue='text', data=data[data['label'] == 0], ax=ax1)\n",
    "ax1.set_title('Landbird')\n",
    "sns.histplot(x='sim', hue='text', data=data[data['label'] == 1], ax=ax2)\n",
    "ax2.set_title('Waterbird')"
   ]
  },
  {
   "cell_type": "markdown",
   "metadata": {},
   "source": [
    "## Project"
   ]
  },
  {
   "cell_type": "code",
   "execution_count": 14,
   "metadata": {},
   "outputs": [
    {
     "data": {
      "text/plain": [
       "Text(0.5, 1.0, 'Waterbird')"
      ]
     },
     "execution_count": 14,
     "metadata": {},
     "output_type": "execute_result"
    },
    {
     "data": {
      "image/png": "[encoded data removed]",
      "text/plain": [
       "<Figure size 1080x360 with 2 Axes>"
      ]
     },
     "metadata": {
      "needs_background": "light"
     },
     "output_type": "display_data"
    }
   ],
   "source": [
    "bias_correction = Project([\"an image of a forest\", \"an image of a lake\"], model)\n",
    "proj = bias_correction.apply(train_features)\n",
    "data = bias_correction.calc_dist(proj, train_labels)\n",
    "fig, (ax1, ax2) = plt.subplots(1, 2,figsize=(15,5))\n",
    "sns.histplot(x='sim', hue='text', data=data[data['label'] == 0], ax=ax1)\n",
    "ax1.set_title('Landbird')\n",
    "sns.histplot(x='sim', hue='text', data=data[data['label'] == 1], ax=ax2)\n",
    "ax2.set_title('Waterbird')"
   ]
  },
  {
   "cell_type": "code",
   "execution_count": 15,
   "metadata": {},
   "outputs": [
    {
     "data": {
      "text/plain": [
       "Text(0.5, 1.0, 'Waterbird')"
      ]
     },
     "execution_count": 15,
     "metadata": {},
     "output_type": "execute_result"
    },
    {
     "data": {
      "image/png": "[encoded data removed]",
      "text/plain": [
       "<Figure size 1080x360 with 2 Axes>"
      ]
     },
     "metadata": {
      "needs_background": "light"
     },
     "output_type": "display_data"
    }
   ],
   "source": [
    "bias_correction = BiasCorrection([\"an image of a forest\", \"an image of a lake\"], model)\n",
    "proj = bias_correction.apply(train_features)\n",
    "data = bias_correction.calc_dist(proj, train_labels)\n",
    "fig, (ax1, ax2) = plt.subplots(1, 2,figsize=(15,5))\n",
    "sns.histplot(x='sim', hue='text', data=data[data['label'] == 0], ax=ax1)\n",
    "ax1.set_title('Landbird')\n",
    "sns.histplot(x='sim', hue='text', data=data[data['label'] == 1], ax=ax2)\n",
    "ax2.set_title('Waterbird')"
   ]
  },
  {
   "cell_type": "code",
   "execution_count": null,
   "metadata": {},
   "outputs": [],
   "source": []
  }
 ],
 "metadata": {
  "interpreter": {
   "hash": "90813b6814d2877396ec28b92d1de38839a549ecae4005045e743d724a32c54b"
  },
  "kernelspec": {
   "display_name": "Python 3 (ipykernel)",
   "language": "python",
   "name": "python3"
  },
  "language_info": {
   "codemirror_mode": {
    "name": "ipython",
    "version": 3
   },
   "file_extension": ".py",
   "mimetype": "text/x-python",
   "name": "python",
   "nbconvert_exporter": "python",
   "pygments_lexer": "ipython3",
   "version": "3.8.12"
  }
 },
 "nbformat": 4,
 "nbformat_minor": 4
}
